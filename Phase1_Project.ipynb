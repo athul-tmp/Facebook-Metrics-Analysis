{
 "cells": [
  {
   "cell_type": "markdown",
   "metadata": {
    "id": "_WesbM7EaQRz"
   },
   "source": [
    "# Predicting Total Interactions of Facebook page\n",
    "## Phase 1: Data Preparation & Visualisation"
   ]
  },
  {
   "cell_type": "markdown",
   "metadata": {},
   "source": [
    "#### Group Number: \n",
    "45\n",
    "#### Names & Student IDs of Group Members:\n",
    "Athul Varghese Thampan, S3958556\n",
    "\n",
    "Mohamed Bilal Naeem, S3967700\n"
   ]
  },
  {
   "cell_type": "markdown",
   "metadata": {
    "id": "wj0VM4gpcG_k"
   },
   "source": [
    "## Table of Contents\n",
    "* [Introduction](#itr) \n",
    "  + [Dataset Source](#Dataset-Source)\n",
    "  + [Dataset Details](#Dataset-Details)\n",
    "  + [Dataset Variables](#Dataset-Variables)\n",
    "  + [Response Variable](#Response-Variable)\n",
    "* [Goals and Objectives](#Goals-and-Objectives)\n",
    "* [Data Cleaning and Preprocessing](#Data-Cleaning-and-Preprocessing)\n",
    "* [Data Exploration and Visualisation](#Data-Exploration-and-Visualisation)\n",
    "* [Summary and Conclusion](#Summary-and-Conclusion)\n",
    "* [References](#References)\n",
    "\n"
   ]
  },
  {
   "cell_type": "markdown",
   "metadata": {
    "id": "kPs3nYvWaa4Z"
   },
   "source": [
    "## Introduction <a id='itr'></a>"
   ]
  },
  {
   "cell_type": "markdown",
   "metadata": {
    "id": "AOLqdgd8aqSA"
   },
   "source": [
    "### Dataset Source"
   ]
  },
  {
   "cell_type": "markdown",
   "metadata": {
    "id": "kv7x2tzzavDr"
   },
   "source": [
    "The Facebook metrics dataset used in this study was sourced from Dr. David Akman's github datasets repository. This dataset is related to Facebook posts published during the year of 2014 on the Facebook page of a renowned cosmetics brand and shows different Facebook metrics.\n",
    "\n"
   ]
  },
  {
   "cell_type": "markdown",
   "metadata": {
    "id": "aWOZPu11ayga"
   },
   "source": [
    "\n",
    "\n",
    "### Dataset Details"
   ]
  },
  {
   "attachments": {},
   "cell_type": "markdown",
   "metadata": {
    "id": "j856Oyhna5_B"
   },
   "source": [
    "The dataset is about the different Facebook metrics of a renowned cosmetics brand and contains features such as page total likes, type of content, category, post month, post weekday, post hour, paid, lifetime post total reach, lifetime post total impressions, lifetime engaged users, lifetime post consumers,\tlifetime post consumptions, lifetime post impressions by people who have liked your page, lifetime post reach by people who like your page,\tlifetime people who have liked your page and engaged with your post, comment, like, share and total interactions.\n",
    "\n",
    "These features will be more than sufficient for predicting total interactions of the Facebook page as a regression problem.\n",
    "\n",
    "This dataset has a total of 19 features and 500 observations.\n",
    "\n",
    "**Dataset Retrieval**\n",
    "\n",
    "- Reading the dataset from the github repository which will be used in this project.\n",
    "- Displaying 10 random rows."
   ]
  },
  {
   "cell_type": "code",
   "execution_count": null,
   "metadata": {
    "colab": {
     "base_uri": "https://localhost:8080/"
    },
    "id": "MzpwLsalbx4F",
    "outputId": "27bfba74-2f1c-44d2-c515-70a76695afd8"
   },
   "outputs": [],
   "source": [
    "import warnings\n",
    "warnings.filterwarnings(\"ignore\")\n",
    "\n",
    "import numpy as np\n",
    "import pandas as pd\n",
    "import io\n",
    "import requests\n",
    "\n",
    "pd.set_option('display.max_columns', None) \n",
    "\n",
    "###\n",
    "import matplotlib.pyplot as plt\n",
    "import seaborn as sns\n",
    "%matplotlib inline \n",
    "%config InlineBackend.figure_format = 'retina'\n",
    "plt.style.use(\"seaborn\")\n",
    "###"
   ]
  },
  {
   "cell_type": "code",
   "execution_count": null,
   "metadata": {
    "colab": {
     "base_uri": "https://localhost:8080/"
    },
    "id": "MzpwLsalbx4F",
    "outputId": "27bfba74-2f1c-44d2-c515-70a76695afd8"
   },
   "outputs": [],
   "source": [
    "# url of the dataset from github\n",
    "df_url = 'https://raw.githubusercontent.com/akmand/datasets/main/fb_metrics.csv'\n",
    "url_content = requests.get(df_url, verify=False).content\n",
    "melb_df = pd.read_csv(io.StringIO(url_content.decode('utf-8')))"
   ]
  },
  {
   "cell_type": "code",
   "execution_count": null,
   "metadata": {
    "colab": {
     "base_uri": "https://localhost:8080/"
    },
    "id": "MzpwLsalbx4F",
    "outputId": "27bfba74-2f1c-44d2-c515-70a76695afd8"
   },
   "outputs": [],
   "source": [
    "melb_df.sample(10, random_state=999)"
   ]
  },
  {
   "cell_type": "markdown",
   "metadata": {
    "id": "kbAbZe4da9v6"
   },
   "source": [
    "### Dataset Variables"
   ]
  },
  {
   "cell_type": "markdown",
   "metadata": {
    "id": "Ggph8lF8yzOJ"
   },
   "source": [
    "The variables in this dataset are displayed in the table below along with their data type, units and description."
   ]
  },
  {
   "cell_type": "code",
   "execution_count": null,
   "metadata": {},
   "outputs": [],
   "source": [
    "from tabulate import tabulate\n",
    "\n",
    "table = [['Name','Data Type','Units','Description'],\n",
    "         ['page_total_likes','Numeric','NA','Total number of likes for the page'],\n",
    "         ['type','Nominal categorical','NA','Type of content'],\n",
    "         ['post_month','Date','NA','Month that the post is uploaded'],\n",
    "         ['post_weekday','Date','NA','Day of the week the post is uploaded'],\n",
    "         ['post_hour','Date','NA','Time of day the post is uploaded'],\n",
    "         ['paid','Binary categorical','NA','Whether paid or unpaid for content'],\n",
    "         ['lifetime_post_total_reach','Numeric','NA','lifetime total reach of the post to users'],\n",
    "         ['lifetime_post_total_impressions','Numeric','NA','Lifetime total impressions made by the post'],\n",
    "         ['lifetime_engaged_users','Numeric','NA','Lifetime engagement by users'],\n",
    "         ['lifetime_post_consumers','Numeric','NA','Lifetime post consumers'],\n",
    "         ['lifetime_post_consumptions','Numeric','NA','Lifetime post consumptions'],\n",
    "         ['lifetime_post_impressions_by_people_who_have_liked_your_page','Numeric','NA','Lifetime post impressions by people who liked the page'],\n",
    "         ['lifetime_post_reach_by_people_who_like_your_page','Numeric','NA','Lifetime post reach by the people who like the page'],\n",
    "         ['lifetime_people_who_have_liked_your_page_and_engaged_with_your_post','Numeric','NA','Lifetime people who have liked the page and engaged with post'],\n",
    "         ['comment','Numeric','NA','Number of comments on post'],\n",
    "         ['like','Numeric','NA','Number of likes on post'],\n",
    "         ['share','Numeric','NA','Number of shares of post'],\n",
    "         ['total_interactions','Numeric','NA','Number of total interactions on post']]\n",
    "\n",
    "print(tabulate(table, headers='firstrow', tablefmt='grid'))"
   ]
  },
  {
   "cell_type": "markdown",
   "metadata": {
    "id": "X3cff-r4bLeZ"
   },
   "source": [
    "### Response Variable"
   ]
  },
  {
   "cell_type": "markdown",
   "metadata": {
    "id": "vCKaspxwbOgp"
   },
   "source": [
    "For this project, the target feature in this dataset will be the house price in Australian dollars. That is, the price of Melbourne houses will be predicted based on the explanatory/ descriptive variables. "
   ]
  },
  {
   "cell_type": "markdown",
   "metadata": {
    "id": "G9GdHTRNbfhM"
   },
   "source": [
    "## Goals and Objectives"
   ]
  },
  {
   "cell_type": "markdown",
   "metadata": {
    "id": "FRzUDKqrjnjn"
   },
   "source": [
    "Melbourne has a very active housing market as demand for housing throughout the city is usually well above the supply. For this reason, a model that can accurately predict a house's selling price in Melbourne would have many real-world uses. For instance, real estate agents can provide better service to their customers using this predictive model. Likewise, banks lending out money to home buyers can better estimate the financial aspects of this home loan. Perhaps more importantly as potential home buyers, we as individuals can better figure out if we are being ripped off or we are getting a good deal provided that our predictive model is a reliable one.\n",
    "\n",
    "Thus, the main objective of this project is two-fold: (1) predict the price of a house sold in Melbourne based on publicly available features of the house, and (2) which features seem to be the best predictors of the house sale price. A secondary objective is to perform some exploratory data analysis by basic descriptive statistics & data visualisation plots to gain some insight into the patterns and relationships existing in the data subsequent to some data cleaning & preprocessing, which is the subject of this Phase 1 report.\n",
    "\n",
    "At this point, we make the important assumption that rows in our dataset are not correlated. That is, we assume that house price observations are independent of one another in this dataset. Of course, this is not a very realistic assumption, however, this assumption allows us to circumvent time series aspects of the underlying dynamics of house prices and also to resort to rather classical predictive models such as multiple linear regression."
   ]
  },
  {
   "cell_type": "markdown",
   "metadata": {
    "id": "VjbqC8_dblYG"
   },
   "source": [
    "## Data Cleaning and Preprocessing\n",
    "\n",
    "In this section, we describe the data cleaning and preprocessing steps undertaken for this project."
   ]
  },
  {
   "cell_type": "markdown",
   "metadata": {
    "id": "qeAV4WEN8I9I"
   },
   "source": [
    "### Data Cleaning Steps\n",
    "\n",
    "*   Drop irrelevant features in our dataset\n",
    "*   Check and rename/ modify some column names\n",
    "*   Check for missing values\n",
    "*   Remove all the rows with missing values \n",
    "*   Random sampling of the dataset for 5000 rows"
   ]
  },
  {
   "cell_type": "markdown",
   "metadata": {
    "id": "t5d0FQZRDm7e"
   },
   "source": [
    "Let's first display all the columns in our dataset."
   ]
  },
  {
   "cell_type": "code",
   "execution_count": null,
   "metadata": {
    "colab": {
     "base_uri": "https://localhost:8080/"
    },
    "id": "qc3S7P4DlWPO",
    "outputId": "624a97ec-f73b-4934-c336-94d619942fe5"
   },
   "outputs": [],
   "source": [
    "melb_df.columns"
   ]
  },
  {
   "cell_type": "markdown",
   "metadata": {
    "id": "P-iHNfoTb2Hf"
   },
   "source": [
    "`Postcode` is very similar to the `Suburb` feature, thus it is considered redundant for the model and removed. `Bedroom2` is just the number of bedrooms based on other source, which is also the same as `Rooms` feature, thus it is also considered redundant and removed. "
   ]
  },
  {
   "cell_type": "code",
   "execution_count": null,
   "metadata": {
    "id": "Aqf8zGvmlYq7"
   },
   "outputs": [],
   "source": [
    "#drop irrelevant/repeated columns/features\n",
    "melb_df = melb_df.drop(columns=[\"Postcode\", \"Bedroom2\"]) "
   ]
  },
  {
   "cell_type": "markdown",
   "metadata": {
    "id": "S9eEDZOhc8fK"
   },
   "source": [
    "As this is not a time series project, the `Date` feature is transformed into `Months` and `Years` features for the model. After transforming, the original `Date` feature is removed."
   ]
  },
  {
   "cell_type": "code",
   "execution_count": null,
   "metadata": {
    "id": "-DGUVN2YdKnC"
   },
   "outputs": [],
   "source": [
    "# Convert Date feature from string to Pandas' datatime dtype\n",
    "melb_df['Date'] = pd.to_datetime(melb_df['Date'], dayfirst=True)\n",
    "###\n",
    "# Create Year and Month features\n",
    "melb_df['year_sold'] = melb_df['Date'].dt.year\n",
    "melb_df['month_sold'] = melb_df['Date'].dt.month\n",
    "###\n",
    "# Remove Date as we will not need it anymore\n",
    "melb_df = melb_df.drop(columns=[\"Date\"]) "
   ]
  },
  {
   "cell_type": "markdown",
   "metadata": {
    "id": "fwh_cK98o13P"
   },
   "source": [
    "Some of the columns are not labelled properly, which will be problematic when modelling. We will make all column names lower case and replace any spaces with underscores for consistency. We will also remove any white spaces before & after column names."
   ]
  },
  {
   "cell_type": "code",
   "execution_count": null,
   "metadata": {
    "colab": {
     "base_uri": "https://localhost:8080/",
     "height": 643
    },
    "id": "9yzqumvMla8z",
    "outputId": "50506f96-72ba-49e5-978f-9c5e23c06f3b"
   },
   "outputs": [],
   "source": [
    "# make column names lower case and also remove any white spaces\n",
    "# before & after the column names using the strip() function\n",
    "melb_df.columns = melb_df.columns.str.lower().str.strip()\n",
    "\n",
    "columns_mapping = {\n",
    "    'sellerg': 'real_estate',\n",
    "    'landsize': 'land_size',\n",
    "    'buildingarea': 'building_area',\n",
    "    'yearbuilt': 'year_built',\n",
    "    'councilarea': 'council',\n",
    "    'regionname': 'region',\n",
    "    'propertycount': 'property_count'    \n",
    "}\n",
    "\n",
    "# rename columns\n",
    "melb_df = melb_df.rename(columns = columns_mapping)\n",
    "melb_df.sample(5, random_state=999)"
   ]
  },
  {
   "cell_type": "markdown",
   "metadata": {
    "id": "tn-zGmpYmUoz"
   },
   "source": [
    "Next we check the data types and observe that they match the intended data types, thus no change is needed here. "
   ]
  },
  {
   "cell_type": "code",
   "execution_count": null,
   "metadata": {
    "colab": {
     "base_uri": "https://localhost:8080/"
    },
    "id": "TogC7Yy-lw-y",
    "outputId": "fc5c9957-3b36-45a0-9a69-0c36efedd334"
   },
   "outputs": [],
   "source": [
    "# Check for data types\n",
    "print(f\"Shape of the dataset = {melb_df.shape} \\n\")\n",
    "print(f\"Data types are below where 'object' indicates a string type: \")\n",
    "print(melb_df.dtypes)"
   ]
  },
  {
   "cell_type": "markdown",
   "metadata": {
    "id": "Rk6tXtuCmhCV"
   },
   "source": [
    "The unique values for all columns with categorical data types are displayed to check for any white spaces and other data quality issues. It turns out that the data is already clean, and no futher data cleaning steps are necessary here. "
   ]
  },
  {
   "cell_type": "code",
   "execution_count": null,
   "metadata": {
    "colab": {
     "base_uri": "https://localhost:8080/",
     "height": 190
    },
    "id": "11HEMDOBGGGj",
    "outputId": "f728caff-b561-42ce-c65e-da77330371b2"
   },
   "outputs": [],
   "source": [
    "from IPython.display import display, HTML\n",
    "display(HTML('<b>Table 1: Summary of categorical features</b>'))\n",
    "melb_df.describe(include='object').T"
   ]
  },
  {
   "cell_type": "code",
   "execution_count": null,
   "metadata": {
    "colab": {
     "base_uri": "https://localhost:8080/"
    },
    "id": "P5kidSY7EHdE",
    "outputId": "29cd5002-bd09-4d65-f971-b6b2893a4a11"
   },
   "outputs": [],
   "source": [
    "# To see all unique values for categorical data types\n",
    "categoricalColumns = melb_df.columns[melb_df.dtypes==object].tolist()\n",
    "\n",
    "for col in categoricalColumns:\n",
    "    print('Unique values for ' + col)\n",
    "    print(melb_df[col].unique())\n",
    "    print('')"
   ]
  },
  {
   "cell_type": "markdown",
   "metadata": {
    "id": "fwa3g-5fi5Ff"
   },
   "source": [
    "The summary statistics are generated for all the numerical features. There does not seem to be any outliers in the data. "
   ]
  },
  {
   "cell_type": "code",
   "execution_count": null,
   "metadata": {
    "colab": {
     "base_uri": "https://localhost:8080/",
     "height": 351
    },
    "id": "MACmqbl0Fnan",
    "outputId": "0f764cb7-79f9-4739-e46c-4f4c1fbf9b63"
   },
   "outputs": [],
   "source": [
    "from IPython.display import display, HTML\n",
    "display(HTML('<b>Table 2: Summary of numerical features</b>'))\n",
    "melb_df.describe(include=['int64','float64']).T"
   ]
  },
  {
   "cell_type": "markdown",
   "metadata": {
    "id": "GheO05IVp9wT"
   },
   "source": [
    "Missing values are checked by displaying the number of missing values in every column. We observe that `car`, `building_area`, `year_built` and `council` features have missing values. We decide to drop these observations for simplicity."
   ]
  },
  {
   "cell_type": "code",
   "execution_count": null,
   "metadata": {
    "colab": {
     "base_uri": "https://localhost:8080/"
    },
    "id": "hZJ4i1m3l2Jj",
    "outputId": "430153d5-5a5d-4369-dd82-4b7b4033a607"
   },
   "outputs": [],
   "source": [
    "# Count missing values in each column\n",
    "print(f\"\\nNumber of missing values for each column/ feature:\")\n",
    "print(melb_df.isnull().sum())"
   ]
  },
  {
   "cell_type": "code",
   "execution_count": null,
   "metadata": {
    "colab": {
     "base_uri": "https://localhost:8080/",
     "height": 626
    },
    "id": "4dblbvoGl492",
    "outputId": "444b05e5-317b-449d-b961-01011784e354"
   },
   "outputs": [],
   "source": [
    "# Drop all rows with missing values/NaN\n",
    "melb_df = melb_df.dropna()\n",
    "melb_df.shape"
   ]
  },
  {
   "cell_type": "markdown",
   "metadata": {
    "id": "Zlz7MEk7iS7U"
   },
   "source": [
    "### Random Sampling"
   ]
  },
  {
   "cell_type": "markdown",
   "metadata": {
    "id": "N96Ps0SFiXSz"
   },
   "source": [
    "As the data has more than 5000 rows, random sampling is done to get only 5000 rows out of the remaining 6196 rows for ease of computation. At the end, we display 5 random rows from our cleaned data."
   ]
  },
  {
   "cell_type": "code",
   "execution_count": null,
   "metadata": {
    "colab": {
     "base_uri": "https://localhost:8080/"
    },
    "id": "IDfeD-dajHBm",
    "outputId": "113c874c-9c06-405f-af14-e39041fe81c6"
   },
   "outputs": [],
   "source": [
    "melb_df = melb_df.sample(n=5000, random_state=999)\n",
    "melb_df.shape\n",
    "melb_df.sample(5, random_state=999)"
   ]
  },
  {
   "cell_type": "markdown",
   "metadata": {
    "id": "PYdxd6xjbr2S"
   },
   "source": [
    "## Data Exploration and Visualisation\n",
    "\n",
    "Our dataset is now considered to be clean and we are ready to start visualising and explore each of the features."
   ]
  },
  {
   "cell_type": "markdown",
   "metadata": {
    "id": "5fUzkRIZjnTk"
   },
   "source": [
    "### Univariate Visualisation\n",
    "\n"
   ]
  },
  {
   "cell_type": "markdown",
   "metadata": {
    "id": "2dZJjpGrNXFL"
   },
   "source": [
    "#### Bar Chart  of Region Name"
   ]
  },
  {
   "cell_type": "markdown",
   "metadata": {
    "id": "IMvkopwsYw8P"
   },
   "source": [
    "We count the region name to see which region has the highest count in Melbourne Housing in a descending order. As we can see in Figure 1, the Southern Metropolitan has the highest number of house sold compared to the \n",
    "other regions in Melbourne. "
   ]
  },
  {
   "cell_type": "code",
   "execution_count": null,
   "metadata": {
    "colab": {
     "base_uri": "https://localhost:8080/",
     "height": 516
    },
    "id": "ii_k_X8ajlgj",
    "outputId": "a7545b67-2290-450e-d2ea-1fb335b16ff1"
   },
   "outputs": [],
   "source": [
    "plt.figure(figsize = (20,8))\n",
    "fig = sns.countplot(x = 'region', data = melb_df, palette = 'magma', \n",
    "                    order = melb_df['region'].value_counts().index)\n",
    "fig = plt.title('Figure 1: Region Count for Melbourne Housing', fontsize = 15)\n",
    "plt.show()"
   ]
  },
  {
   "cell_type": "markdown",
   "metadata": {
    "id": "1IltQ94G6out"
   },
   "source": [
    "#### Bar Chart of Method\n",
    "\n",
    "From Figure 2, we can see that the method \"Property Sold\" (\"S\") is the most common method used in selling house based on the dataset. "
   ]
  },
  {
   "cell_type": "code",
   "execution_count": null,
   "metadata": {
    "colab": {
     "base_uri": "https://localhost:8080/",
     "height": 516
    },
    "id": "HDyUpV3W5096",
    "outputId": "0b12f03e-0055-4b16-821b-7290f990e3ac"
   },
   "outputs": [],
   "source": [
    "plt.figure(figsize = (15,8))\n",
    "fig = sns.countplot(x = 'method', data = melb_df, palette = None, \n",
    "                    order = melb_df['method'].value_counts().index)\n",
    "fig = plt.title('Figure 2: Method Count in Melbourne Housing', fontsize = 15)\n",
    "plt.show()"
   ]
  },
  {
   "cell_type": "markdown",
   "metadata": {
    "id": "fazPmjcXPdXZ"
   },
   "source": [
    "#### Boxplot & Histogram of Price\n",
    "\n",
    "We can see in Figures 3A and 3B that the distribution of price is clearly right-skewed and has a huge range, which indicates the price variable will probably need a log transformation in the second phase of the project."
   ]
  },
  {
   "cell_type": "code",
   "execution_count": null,
   "metadata": {
    "colab": {
     "base_uri": "https://localhost:8080/",
     "height": 516
    },
    "id": "E_JI4EDpPcWv",
    "outputId": "bcb057d2-f1ea-4d63-e5c2-8965b9a0ece6"
   },
   "outputs": [],
   "source": [
    "# Boxplot of Price\n",
    "plt.figure(figsize = (15,8))\n",
    "sns.boxplot(melb_df['price']).set_title('Figure 3A: Box Plot of Price', fontsize = 15)\n",
    "plt.show();"
   ]
  },
  {
   "cell_type": "code",
   "execution_count": null,
   "metadata": {},
   "outputs": [],
   "source": [
    "# Boxplot of Price\n",
    "plt.figure(figsize = (15,8))\n",
    "sns.distplot(melb_df['price'], kde=True, bins=40).set_title('Figure 3B: Histogram of Price', fontsize = 15)\n",
    "plt.show();"
   ]
  },
  {
   "cell_type": "markdown",
   "metadata": {
    "id": "nf-Ef1Zcjq7H"
   },
   "source": [
    "### Two-Variable Visualisation"
   ]
  },
  {
   "cell_type": "markdown",
   "metadata": {
    "id": "SGoAWalIQrnr"
   },
   "source": [
    "#### Scatterplot of price and distance from CBD\n",
    "\n",
    "Figure 4 shows that there is a correlation between the distance from CBD and price. As the distance increases, the price tends to be lower. "
   ]
  },
  {
   "cell_type": "code",
   "execution_count": null,
   "metadata": {
    "colab": {
     "base_uri": "https://localhost:8080/",
     "height": 516
    },
    "id": "joiKrjt5byxU",
    "outputId": "243407b3-ed6c-4ac5-afa8-cc78ec74d32e"
   },
   "outputs": [],
   "source": [
    "plt.figure(figsize = (15,8))\n",
    "plt.scatter(melb_df['distance'], melb_df['price'], alpha = 0.3)\n",
    "plt.title('Figure 4: Scatterplot of Price and Distance from CBD', fontsize = 15)\n",
    "plt.xlabel('Distance from CBD')\n",
    "plt.ylabel('Price')\n",
    "plt.show();"
   ]
  },
  {
   "cell_type": "markdown",
   "metadata": {
    "id": "2uQOXaydRqAE"
   },
   "source": [
    "#### Boxplot of Price by House Type\n",
    "\n",
    "From figure 5, we can see that H type (house, cottage, villa, semi, terrace) of house have overall a higher price compared to other types. Furthermore, U (unit or duplex) house has a lower price compared to other types. \n"
   ]
  },
  {
   "cell_type": "code",
   "execution_count": null,
   "metadata": {
    "colab": {
     "base_uri": "https://localhost:8080/",
     "height": 516
    },
    "id": "eExNPsGqRv8s",
    "outputId": "4b28eeb7-e271-44ea-d21c-d372a06d7677"
   },
   "outputs": [],
   "source": [
    "plt.figure(figsize = (15,8))\n",
    "sns.boxplot(melb_df['type'], melb_df['price']);\n",
    "plt.title('Figure 5: Boxplot of Price by House Type', fontsize = 15)\n",
    "plt.show();"
   ]
  },
  {
   "cell_type": "markdown",
   "metadata": {
    "id": "k5w1j6-5SZLJ"
   },
   "source": [
    "#### Boxplot of Price by Number of Rooms\n",
    "\n",
    "In figure 6, the price tends to increase as the number of rooms increases. "
   ]
  },
  {
   "cell_type": "code",
   "execution_count": null,
   "metadata": {
    "colab": {
     "base_uri": "https://localhost:8080/",
     "height": 516
    },
    "id": "QpHn5A2RTB3U",
    "outputId": "479042bc-c3b6-4439-d039-8abbe1c0884a"
   },
   "outputs": [],
   "source": [
    "plt.figure(figsize = (15,8))\n",
    "sns.boxplot(melb_df['rooms'], melb_df['price']);\n",
    "plt.title('Figure 6: Boxplot of Price by Number of Rooms', fontsize = 15)\n",
    "plt.show();"
   ]
  },
  {
   "cell_type": "markdown",
   "metadata": {
    "id": "jCsTR7C3j81V"
   },
   "source": [
    "### Three-Variable Visualisation"
   ]
  },
  {
   "cell_type": "markdown",
   "metadata": {
    "id": "Njm9urhfTYYk"
   },
   "source": [
    "#### Boxplot of Price broken down by Method and House Type\n",
    "\n",
    "We can clearly see that in figure 7, the comparison between house type and price in different method is somewhat comparable. There is no significant difference. "
   ]
  },
  {
   "cell_type": "code",
   "execution_count": null,
   "metadata": {
    "colab": {
     "base_uri": "https://localhost:8080/",
     "height": 516
    },
    "id": "cgLqGq8Yj_p5",
    "outputId": "15a60550-d6b0-45f6-a6e7-e807a522297f"
   },
   "outputs": [],
   "source": [
    "plt.figure(figsize = (15,8))\n",
    "sns.boxplot(melb_df['method'], melb_df['price'], \n",
    "            hue = melb_df['type'])\n",
    "plt.title('Figure 7: Boxplot of Price broken down by Method and House Type', fontsize = 15)\n",
    "plt.show();"
   ]
  },
  {
   "cell_type": "markdown",
   "metadata": {
    "id": "mBx6sYTIUkL6"
   },
   "source": [
    "#### Scatterplot of Price by Distance from Central Business District (CBD) and House Type\n",
    "\n",
    "Figure 8 shows that U house type (unit, duplex) tends to be closer to CBD and have a lower price, based on the clustering of the red points in the lower left corner of the plot."
   ]
  },
  {
   "cell_type": "code",
   "execution_count": null,
   "metadata": {
    "colab": {
     "base_uri": "https://localhost:8080/",
     "height": 516
    },
    "id": "fuvxmxdLUp2H",
    "outputId": "a898ee2f-34a2-4c52-ae3a-cc46a1400784"
   },
   "outputs": [],
   "source": [
    "plt.figure(figsize = (15,8))\n",
    "sns.scatterplot(melb_df['distance'], melb_df['price'], hue = melb_df['type'])\n",
    "plt.title('Figure 8: Scatterplot of Price by Distance coloured by House Type', fontsize = 15);\n",
    "plt.legend(loc = 'upper right')\n",
    "plt.show();"
   ]
  },
  {
   "cell_type": "markdown",
   "metadata": {
    "id": "5sOUK6YL-ukx"
   },
   "source": [
    "#### Barplot of Price by Month and Year Sold\n",
    "\n",
    "Overall, we observe that the price of house sold was higher in 2017 than 2016 per month, but there is no clear pattern regarding which month has higher price of house sold. "
   ]
  },
  {
   "cell_type": "code",
   "execution_count": null,
   "metadata": {
    "colab": {
     "base_uri": "https://localhost:8080/",
     "height": 530
    },
    "id": "A37MmwEzYbOm",
    "outputId": "b017ecc0-6f10-4be1-feda-33ad752f2bcc"
   },
   "outputs": [],
   "source": [
    "plt.figure(figsize = (15,8))\n",
    "fig_4 = sns.barplot(x ='month_sold', y ='price', hue = 'year_sold', data = melb_df)\n",
    "plt.title('Figure 9: Barplot of Melbourne Housing Prices by Month in 2016 and 2017', fontsize = 15)\n",
    "plt.xlabel('Month', fontsize = 10)\n",
    "plt.ylabel('House Prices', fontsize = 10) "
   ]
  },
  {
   "cell_type": "markdown",
   "metadata": {
    "id": "Wj1dx6-3b2fi"
   },
   "source": [
    "## Summary and Conclusions"
   ]
  },
  {
   "cell_type": "markdown",
   "metadata": {
    "id": "4_7Whmusb-uC"
   },
   "source": [
    "Accurate prediction of house prices has many practical applications for all stakeholders; including buyers, sellers, banks, and real-estate agencies. Without a doubt, a model that can reliably predict a house's actual sale price would be indispensable  for healthy functioning of the housing market. Our goal in this project is to investigate if we can come up with a reliable model for predicting house prices using the Melbourne House Prices dataset.\n",
    "\n",
    "In Phase I of this project, we undertook the tasks of data cleaning & preprocessing and data visualisation. First we decided to drop two variables which we considered to be not useful for predictive modelling, namely the `Postcode` and `Bedroom2` variables. We also checked the data for any missing values and outliers, and we decided to remove any rows containing such data quality issues. There was not much cleaning needed, as the data seemed to be relatively clean to begin with. Furthermore, we sampled the data to get only 5000 random rows to save time when running models in the second phase of this project.\n",
    "\n",
    "We generated several visualisations in order to explore the data. Using the explanatory variables, we clearly see that Southern Metropolitan region has the highest count of selling Melbourne houses. During the years 2016 and 2017, the house prices in Melbourne only have a slight difference in prices which we can see that 2017 has more houses sold than 2016. Furthermore, in the years 2016 and 2017, the unit/ duplex house prices tend to be lower when it is closer to CBD than houses and townhouses. Therefore, Melbourne house prices tend to fluctuate more when people buy houses from popular region areas or CBD in Melbourne. \n",
    "\n",
    "We also observed that some of the numerical data are skewed, including the target feature, Price. Scaling/ transformation of the data will be needed to address this issue. We have seen that house types, distance from CBD, and number of rooms are few of the most significant features in determining the house price. However, further analysis needs be done in order to identify any further relationships. "
   ]
  },
  {
   "cell_type": "markdown",
   "metadata": {
    "id": "8DiIVIT5b6wS"
   },
   "source": [
    "## References"
   ]
  },
  {
   "cell_type": "markdown",
   "metadata": {
    "id": "3aA6922KcCjb"
   },
   "source": [
    "- Becker, D. (n.d.). Melbourne Housing Snapshot (Kaggle). Retrieved September 21, 2021 from https://www.kaggle.com/dansbecker/melbourne-housing-snapshot"
   ]
  },
  {
   "cell_type": "markdown",
   "metadata": {},
   "source": [
    "***"
   ]
  }
 ],
 "metadata": {
  "colab": {
   "collapsed_sections": [],
   "name": "Phase1_Group2.ipynb",
   "provenance": []
  },
  "kernelspec": {
   "display_name": "Python 3 (ipykernel)",
   "language": "python",
   "name": "python3"
  },
  "language_info": {
   "codemirror_mode": {
    "name": "ipython",
    "version": 3
   },
   "file_extension": ".py",
   "mimetype": "text/x-python",
   "name": "python",
   "nbconvert_exporter": "python",
   "pygments_lexer": "ipython3",
   "version": "3.9.12"
  },
  "varInspector": {
   "cols": {
    "lenName": 16,
    "lenType": 16,
    "lenVar": 40
   },
   "kernels_config": {
    "python": {
     "delete_cmd_postfix": "",
     "delete_cmd_prefix": "del ",
     "library": "var_list.py",
     "varRefreshCmd": "print(var_dic_list())"
    },
    "r": {
     "delete_cmd_postfix": ") ",
     "delete_cmd_prefix": "rm(",
     "library": "var_list.r",
     "varRefreshCmd": "cat(var_dic_list()) "
    }
   },
   "types_to_exclude": [
    "module",
    "function",
    "builtin_function_or_method",
    "instance",
    "_Feature"
   ],
   "window_display": false
  }
 },
 "nbformat": 4,
 "nbformat_minor": 1
}
