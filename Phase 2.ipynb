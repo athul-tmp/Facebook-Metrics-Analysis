{
 "cells": [
  {
   "cell_type": "markdown",
   "id": "0773433c",
   "metadata": {},
   "source": [
    "# Predicting Total Interactions of Facebook page\n",
    "## Phase 2: Statistical Modelling"
   ]
  },
  {
   "cell_type": "markdown",
   "id": "d704ad9a",
   "metadata": {},
   "source": [
    "#### Group Number: \n",
    "45\n",
    "#### Names & Student IDs of Group Members:\n",
    "Athul Varghese Thampan, S3958556\n",
    "\n",
    "Mohamed Bilal Naeem, S3967700\n"
   ]
  },
  {
   "cell_type": "markdown",
   "id": "34ad87ce",
   "metadata": {},
   "source": [
    "## Table of Contents\n",
    "* [Introduction](#intro)\n",
    "  + [Phase 1 Summary](#Phase-1-Summary)\n",
    "  + [Report Overview](#Report-Overview)\n",
    "  + [Overview of Methodology](#Overview-of-Methodology)\n",
    "* [Statistical Modelling](#sm)\n",
    "  + [Full Model Overview](#Full-Model-Overview)\n",
    "  + [Model Fitting](#Model-Fitting)\n",
    "* [Critique & Limitations](#cl)\n",
    "* [Summary & Conclusions](#sc)\n",
    "  + [Project Summary](#Project-Summary)\n",
    "  + [Summary of Findings](#Summary-of-Findings)\n",
    "  + [Conclusions](#Conclusions)"
   ]
  },
  {
   "cell_type": "markdown",
   "id": "fa57a106",
   "metadata": {},
   "source": [
    "## Introduction <a id='intro'></a>"
   ]
  },
  {
   "cell_type": "markdown",
   "id": "c44eb8e3",
   "metadata": {},
   "source": [
    "### Phase 1 Summary"
   ]
  },
  {
   "cell_type": "markdown",
   "id": "c799c271",
   "metadata": {},
   "source": [
    "This report continues on the Phase 1 report. For the Phase 1 report, we cleaned and preprocessed the Facebook metrics dataset. During this process, we decided to remove data that we decided was unnecessary for statistical analysis and modelling. The data that was dropped was the `category` column since it was redundant, and we also dropped any missing values in the dataset. The dataset contained 500 observations in total out of which 5 were dropped due to missing values. After the data preprocessing, the dataset contains 18 variables and 495 observations. We also changed the `paid` column to have values that were `strings` since it is a binary categorical variable, and for the ease of handling the data. We also represented the data using a variety of graphs so as to visualise the data. \n",
    "\n",
    "We will be using the same Facebook metrics dataset for the Phase 2 report in order to conduct statistical modelling. But the dataset that we are using will be the cleaned and preprocessed dataset, which was the result of Phase 1 report and it was saved as a separate preprocessed dataset.\n"
   ]
  },
  {
   "cell_type": "markdown",
   "id": "99860a67",
   "metadata": {},
   "source": [
    "### Report Overview"
   ]
  },
  {
   "cell_type": "markdown",
   "id": "e70a9bcc",
   "metadata": {},
   "source": [
    "A complete and accurate overview of the contents of your Phase 2 report. Clarification: A Table of Contents is not a report overview."
   ]
  },
  {
   "cell_type": "markdown",
   "id": "1d94a0e5",
   "metadata": {},
   "source": [
    "### Overview of Methodology"
   ]
  },
  {
   "cell_type": "markdown",
   "id": "89e432d3",
   "metadata": {},
   "source": [
    "A detailed, complete, and accurate overview of your statistical modelling methodology (which is multiple linear regression). More specifically, in this subsection, you will provide a summary of your \"Statistical Modelling\" section below."
   ]
  },
  {
   "cell_type": "markdown",
   "id": "74723056",
   "metadata": {},
   "source": [
    "## Statistical Modelling <a id='sm'></a>"
   ]
  },
  {
   "cell_type": "markdown",
   "id": "6a5d3206",
   "metadata": {},
   "source": [
    "(Statistical Modelling Section: Details of assumptions check, model selection, plots of residuals, and technical analysis of regression results.)\n",
    "\n",
    "**NOTE:** The second half of [this](https://github.com/vaksakalli/stats_tutorials/blob/master/Regression_Case_Study1_web.ipynb) regression case study (\"Statistical Modeling and Performance Evaluation\" Section) will be **very helpful** for this section."
   ]
  },
  {
   "cell_type": "markdown",
   "id": "8163a802",
   "metadata": {},
   "source": [
    "### Full Model Overview"
   ]
  },
  {
   "cell_type": "markdown",
   "id": "ae5ed672",
   "metadata": {},
   "source": [
    "Overview of your full model, including the variables and terms you are using in your model."
   ]
  },
  {
   "cell_type": "markdown",
   "id": "69d938f8",
   "metadata": {},
   "source": [
    "#### Module Imports"
   ]
  },
  {
   "cell_type": "code",
   "execution_count": null,
   "id": "bda62bd3",
   "metadata": {},
   "outputs": [],
   "source": [
    "import numpy as np\n",
    "import pandas as pd\n",
    "import matplotlib.pyplot as plt\n",
    "import seaborn as sns\n",
    "import statsmodels.api as sm\n",
    "import statsmodels.formula.api as smf\n",
    "import patsy\n",
    "\n",
    "import warnings\n",
    "warnings.filterwarnings('ignore')\n",
    "\n",
    "pd.set_option('display.max_columns', None) \n",
    "\n",
    "%matplotlib inline \n",
    "%config InlineBackend.figure_format = 'retina'\n",
    "plt.style.use(\"ggplot\")\n",
    "\n",
    "df = pd.read_csv('Phase2_Group45.csv')\n"
   ]
  },
  {
   "cell_type": "markdown",
   "id": "7edf46d5",
   "metadata": {},
   "source": [
    "### Full Model Diagnostic Checks"
   ]
  },
  {
   "cell_type": "markdown",
   "id": "a2c77698",
   "metadata": {},
   "source": [
    "You need to check whether there are indications of violations of the regression assumptions for the full model."
   ]
  },
  {
   "cell_type": "markdown",
   "id": "ef620f90",
   "metadata": {},
   "source": [
    "### Model Fitting"
   ]
  },
  {
   "cell_type": "markdown",
   "id": "7fc5a041",
   "metadata": {},
   "source": [
    "### Backwards Feature Selection"
   ]
  },
  {
   "cell_type": "markdown",
   "id": "e85c6e3e",
   "metadata": {},
   "source": [
    "You can use the code below to to perform backward feature selection using p-values ([credit](https://github.com/vaksakalli/stats_tutorials/blob/master/Regression_Case_Study1_web.ipynb))."
   ]
  },
  {
   "cell_type": "code",
   "execution_count": null,
   "id": "05f8dab1",
   "metadata": {},
   "outputs": [],
   "source": [
    "## create the patsy model description from formula\n",
    "patsy_description = patsy.ModelDesc.from_formula(formula_string_encoded)\n",
    "\n",
    "# initialize feature-selected fit to full model\n",
    "linreg_fit = model_full_fitted\n",
    "\n",
    "# do backwards elimination using p-values\n",
    "p_val_cutoff = 0.05\n",
    "\n",
    "## WARNING 1: The code below assumes that the Intercept term is present in the model.\n",
    "## WARNING 2: It will work only with main effects and two-way interactions, if any.\n",
    "\n",
    "print('\\nPerforming backwards feature selection using p-values:')\n",
    "\n",
    "while True:\n",
    "\n",
    "    # uncomment the line below if you would like to see the regression summary\n",
    "    # in each step:\n",
    "    ### print(linreg_fit.summary())\n",
    "\n",
    "    pval_series = linreg_fit.pvalues.drop(labels='Intercept')\n",
    "    pval_series = pval_series.sort_values(ascending=False)\n",
    "    term = pval_series.index[0]\n",
    "    pval = pval_series[0]\n",
    "    if (pval < p_val_cutoff):\n",
    "        break\n",
    "    term_components = term.split(':')\n",
    "    print(f'\\nRemoving term \"{term}\" with p-value {pval:.4}')\n",
    "    if (len(term_components) == 1): ## this is a main effect term\n",
    "        patsy_description.rhs_termlist.remove(patsy.Term([patsy.EvalFactor(term_components[0])]))    \n",
    "    else: ## this is an interaction term\n",
    "        patsy_description.rhs_termlist.remove(patsy.Term([patsy.EvalFactor(term_components[0]), \n",
    "                                                        patsy.EvalFactor(term_components[1])]))    \n",
    "        \n",
    "    linreg_fit = smf.ols(formula=patsy_description, data=data_encoded).fit()\n",
    "    \n",
    "###\n",
    "## this is the clean fit after backwards elimination\n",
    "model_reduced_fitted = smf.ols(formula = patsy_description, data = data_encoded).fit()\n",
    "###\n",
    "    \n",
    "#########\n",
    "print(\"\\n***\")\n",
    "print(model_reduced_fitted.summary())\n",
    "print(\"***\")\n",
    "print(f\"Regression number of terms: {len(model_reduced_fitted.model.exog_names)}\")\n",
    "print(f\"Regression F-distribution p-value: {model_reduced_fitted.f_pvalue:.4f}\")\n",
    "print(f\"Regression R-squared: {model_reduced_fitted.rsquared:.4f}\")\n",
    "print(f\"Regression Adjusted R-squared: {model_reduced_fitted.rsquared_adj:.4f}\")"
   ]
  },
  {
   "cell_type": "markdown",
   "id": "ea9b38d4",
   "metadata": {},
   "source": [
    "### Reduced Model Overview"
   ]
  },
  {
   "cell_type": "markdown",
   "id": "ff943e57",
   "metadata": {},
   "source": [
    "Overview of your reduced model, including the variables and terms you are using in your model."
   ]
  },
  {
   "cell_type": "markdown",
   "id": "39b395ee",
   "metadata": {},
   "source": [
    "### Reduced Model Diagnostic Checks"
   ]
  },
  {
   "cell_type": "markdown",
   "id": "2b1f5f62",
   "metadata": {},
   "source": [
    "You need to check whether there are indications of violations of the regression assumptions for the reduced model."
   ]
  },
  {
   "cell_type": "markdown",
   "id": "e0f30c49",
   "metadata": {},
   "source": [
    "## Critique & Limitations <a id='cl'></a>"
   ]
  },
  {
   "cell_type": "markdown",
   "id": "d8fe68b2",
   "metadata": {},
   "source": [
    "Critique & Limitations of your approach: strengths and weaknesses in detail."
   ]
  },
  {
   "cell_type": "markdown",
   "id": "427e0dd7",
   "metadata": {},
   "source": [
    "## Summary & Conclusions <a id='sc'></a>"
   ]
  },
  {
   "cell_type": "markdown",
   "id": "30a0df93",
   "metadata": {},
   "source": [
    "### Project Summary"
   ]
  },
  {
   "cell_type": "markdown",
   "id": "1111bc02",
   "metadata": {},
   "source": [
    "A comprehensive summary of your entire project (both Phase 1 and Phase 2). That is, what exactly did you do in your project? (Example: I first cleaned the data in such and such ways. And then I applied multiple linear regression techniques in such and such ways. etc)."
   ]
  },
  {
   "cell_type": "markdown",
   "id": "7a3df152",
   "metadata": {},
   "source": [
    "### Summary of Findings"
   ]
  },
  {
   "cell_type": "markdown",
   "id": "3f1287bc",
   "metadata": {},
   "source": [
    "A comprehensive summary of your findings. That is, what exactly did you find about your particular problem?"
   ]
  },
  {
   "cell_type": "markdown",
   "id": "86265bf4",
   "metadata": {},
   "source": [
    "### Conclusions"
   ]
  },
  {
   "cell_type": "markdown",
   "id": "4f8c0986",
   "metadata": {},
   "source": [
    "Your detailed conclusions as they relate to your goals and objectives."
   ]
  }
 ],
 "metadata": {
  "kernelspec": {
   "display_name": "Python 3 (ipykernel)",
   "language": "python",
   "name": "python3"
  },
  "language_info": {
   "codemirror_mode": {
    "name": "ipython",
    "version": 3
   },
   "file_extension": ".py",
   "mimetype": "text/x-python",
   "name": "python",
   "nbconvert_exporter": "python",
   "pygments_lexer": "ipython3",
   "version": "3.9.12"
  }
 },
 "nbformat": 4,
 "nbformat_minor": 5
}
